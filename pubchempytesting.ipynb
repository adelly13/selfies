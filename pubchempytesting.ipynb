{
  "nbformat": 4,
  "nbformat_minor": 0,
  "metadata": {
    "colab": {
      "name": "pubchempytesting.ipynb",
      "provenance": []
    },
    "kernelspec": {
      "name": "python3",
      "display_name": "Python 3"
    },
    "language_info": {
      "name": "python"
    }
  },
  "cells": [
    {
      "cell_type": "markdown",
      "metadata": {
        "id": "wosfywyyI1Mg"
      },
      "source": [
        "## Importing Libraries"
      ]
    },
    {
      "cell_type": "code",
      "metadata": {
        "colab": {
          "base_uri": "https://localhost:8080/"
        },
        "id": "uG-WW00MKaHJ",
        "outputId": "b3d5ce27-0383-4063-d8c6-ebd605f52f67"
      },
      "source": [
        "!pip install pubchempy"
      ],
      "execution_count": 1,
      "outputs": [
        {
          "output_type": "stream",
          "name": "stdout",
          "text": [
            "Requirement already satisfied: pubchempy in /usr/local/lib/python3.7/dist-packages (1.0.4)\n"
          ]
        }
      ]
    },
    {
      "cell_type": "code",
      "metadata": {
        "id": "WezfCiJXKSj0"
      },
      "source": [
        "import pubchempy as pcp"
      ],
      "execution_count": 2,
      "outputs": []
    },
    {
      "cell_type": "markdown",
      "metadata": {
        "id": "MZATs23TI6dN"
      },
      "source": [
        "## Get Molecular Formula of SMILES Molecule"
      ]
    },
    {
      "cell_type": "code",
      "metadata": {
        "colab": {
          "base_uri": "https://localhost:8080/"
        },
        "id": "_r8IvF6DDFOp",
        "outputId": "6d9459de-0dbc-4804-d5dc-17504ba6e38d"
      },
      "source": [
        "smiles = 'CC' # ethane\n",
        "cid = pcp.get_cids(smiles, namespace='smiles') # stores pubchempy cid of smiles\n",
        "compound = pcp.Compound.from_cid(cid) # stores the compound with corresponding cid\n",
        "mfcompound = compound.molecular_formula # finds the molecular formula of the compound\n",
        "print(compound.molecular_formula)"
      ],
      "execution_count": 3,
      "outputs": [
        {
          "output_type": "stream",
          "name": "stdout",
          "text": [
            "C2H6\n"
          ]
        }
      ]
    },
    {
      "cell_type": "markdown",
      "metadata": {
        "id": "ymywsPIbJDNC"
      },
      "source": [
        "## Count Number of Hydrogens in Molecular Formula"
      ]
    },
    {
      "cell_type": "code",
      "metadata": {
        "id": "lx_RnZL6Euxp"
      },
      "source": [
        "atoms = compound.to_dict(properties=['atoms'])"
      ],
      "execution_count": 4,
      "outputs": []
    },
    {
      "cell_type": "code",
      "metadata": {
        "colab": {
          "base_uri": "https://localhost:8080/"
        },
        "id": "FENyffHpFPp4",
        "outputId": "90bf4485-1817-4bef-bd2e-21f7cc2e51e4"
      },
      "source": [
        "countH = 0\n",
        "for i in range(len(atoms['atoms'])):\n",
        " element = atoms['atoms'][i]['element']\n",
        "#  print(element)\n",
        " if element == 'H':\n",
        "   countH += 1\n",
        "\n",
        "print(f'Hydrogen Count: {countH}')"
      ],
      "execution_count": 5,
      "outputs": [
        {
          "output_type": "stream",
          "name": "stdout",
          "text": [
            "Hydrogen Count: 6\n"
          ]
        }
      ]
    }
  ]
}